{
 "cells": [
  {
   "cell_type": "markdown",
   "metadata": {},
   "source": [
    "# ASSIGNMENT 2\n",
    "SUBMITTED BY - SHIVANI GOYAL<BR>\n",
    "R00183301"
   ]
  },
  {
   "cell_type": "markdown",
   "metadata": {},
   "source": [
    "## Importing Libraries and Install Packages"
   ]
  },
  {
   "cell_type": "code",
   "execution_count": 95,
   "metadata": {},
   "outputs": [],
   "source": [
    "import os\n",
    "import pandas as pd\n",
    "import numpy as np\n",
    "import seaborn as sns\n",
    "import matplotlib.pyplot as plt\n",
    "from imblearn.pipeline import Pipeline\n",
    "from sklearn import metrics, model_selection\n",
    "from sklearn import neighbors\n",
    "from sklearn import preprocessing\n",
    "from sklearn.ensemble import RandomForestClassifier, AdaBoostClassifier\n",
    "from sklearn.linear_model import LogisticRegression\n",
    "from sklearn.ensemble import GradientBoostingClassifier\n",
    "from sklearn.metrics import confusion_matrix\n",
    "from sklearn.model_selection import train_test_split, GridSearchCV\n",
    "from sklearn.naive_bayes import GaussianNB\n",
    "from sklearn.svm import SVC, LinearSVC\n",
    "from sklearn.tree import DecisionTreeClassifier\n",
    "from imblearn.over_sampling import (SMOTE, BorderlineSMOTE, SVMSMOTE, KMeansSMOTE)\n",
    "import warnings\n",
    "# Code to ignore the future warnings\n",
    "warnings.simplefilter(action='ignore', category=FutureWarning)"
   ]
  },
  {
   "cell_type": "code",
   "execution_count": 96,
   "metadata": {},
   "outputs": [
    {
     "data": {
      "text/html": [
       "<div>\n",
       "<style scoped>\n",
       "    .dataframe tbody tr th:only-of-type {\n",
       "        vertical-align: middle;\n",
       "    }\n",
       "\n",
       "    .dataframe tbody tr th {\n",
       "        vertical-align: top;\n",
       "    }\n",
       "\n",
       "    .dataframe thead th {\n",
       "        text-align: right;\n",
       "    }\n",
       "</style>\n",
       "<table border=\"1\" class=\"dataframe\">\n",
       "  <thead>\n",
       "    <tr style=\"text-align: right;\">\n",
       "      <th></th>\n",
       "      <th>mean_radius</th>\n",
       "      <th>mean_texture</th>\n",
       "      <th>mean_perimeter</th>\n",
       "      <th>mean_area</th>\n",
       "      <th>mean_smoothness</th>\n",
       "      <th>diagnosis</th>\n",
       "    </tr>\n",
       "  </thead>\n",
       "  <tbody>\n",
       "    <tr>\n",
       "      <td>0</td>\n",
       "      <td>17.99</td>\n",
       "      <td>10.38</td>\n",
       "      <td>122.80</td>\n",
       "      <td>1001.0</td>\n",
       "      <td>0.11840</td>\n",
       "      <td>0</td>\n",
       "    </tr>\n",
       "    <tr>\n",
       "      <td>1</td>\n",
       "      <td>20.57</td>\n",
       "      <td>17.77</td>\n",
       "      <td>132.90</td>\n",
       "      <td>1326.0</td>\n",
       "      <td>0.08474</td>\n",
       "      <td>0</td>\n",
       "    </tr>\n",
       "    <tr>\n",
       "      <td>2</td>\n",
       "      <td>19.69</td>\n",
       "      <td>21.25</td>\n",
       "      <td>130.00</td>\n",
       "      <td>1203.0</td>\n",
       "      <td>0.10960</td>\n",
       "      <td>0</td>\n",
       "    </tr>\n",
       "    <tr>\n",
       "      <td>3</td>\n",
       "      <td>11.42</td>\n",
       "      <td>20.38</td>\n",
       "      <td>77.58</td>\n",
       "      <td>386.1</td>\n",
       "      <td>0.14250</td>\n",
       "      <td>0</td>\n",
       "    </tr>\n",
       "    <tr>\n",
       "      <td>4</td>\n",
       "      <td>20.29</td>\n",
       "      <td>14.34</td>\n",
       "      <td>135.10</td>\n",
       "      <td>1297.0</td>\n",
       "      <td>0.10030</td>\n",
       "      <td>0</td>\n",
       "    </tr>\n",
       "  </tbody>\n",
       "</table>\n",
       "</div>"
      ],
      "text/plain": [
       "   mean_radius  mean_texture  mean_perimeter  mean_area  mean_smoothness  \\\n",
       "0        17.99         10.38          122.80     1001.0          0.11840   \n",
       "1        20.57         17.77          132.90     1326.0          0.08474   \n",
       "2        19.69         21.25          130.00     1203.0          0.10960   \n",
       "3        11.42         20.38           77.58      386.1          0.14250   \n",
       "4        20.29         14.34          135.10     1297.0          0.10030   \n",
       "\n",
       "   diagnosis  \n",
       "0          0  \n",
       "1          0  \n",
       "2          0  \n",
       "3          0  \n",
       "4          0  "
      ]
     },
     "execution_count": 96,
     "metadata": {},
     "output_type": "execute_result"
    }
   ],
   "source": [
    "# Reading File into data frame\n",
    "data = pd.read_csv(\"Breast_cancer_data.csv\")\n",
    "data.head()"
   ]
  },
  {
   "cell_type": "code",
   "execution_count": 97,
   "metadata": {},
   "outputs": [
    {
     "data": {
      "text/html": [
       "<div>\n",
       "<style scoped>\n",
       "    .dataframe tbody tr th:only-of-type {\n",
       "        vertical-align: middle;\n",
       "    }\n",
       "\n",
       "    .dataframe tbody tr th {\n",
       "        vertical-align: top;\n",
       "    }\n",
       "\n",
       "    .dataframe thead th {\n",
       "        text-align: right;\n",
       "    }\n",
       "</style>\n",
       "<table border=\"1\" class=\"dataframe\">\n",
       "  <thead>\n",
       "    <tr style=\"text-align: right;\">\n",
       "      <th></th>\n",
       "      <th>mean_radius</th>\n",
       "      <th>mean_texture</th>\n",
       "      <th>mean_perimeter</th>\n",
       "      <th>mean_area</th>\n",
       "      <th>mean_smoothness</th>\n",
       "      <th>diagnosis</th>\n",
       "    </tr>\n",
       "  </thead>\n",
       "  <tbody>\n",
       "    <tr>\n",
       "      <td>count</td>\n",
       "      <td>569.000000</td>\n",
       "      <td>569.000000</td>\n",
       "      <td>569.000000</td>\n",
       "      <td>569.000000</td>\n",
       "      <td>569.000000</td>\n",
       "      <td>569.000000</td>\n",
       "    </tr>\n",
       "    <tr>\n",
       "      <td>mean</td>\n",
       "      <td>14.127292</td>\n",
       "      <td>19.289649</td>\n",
       "      <td>91.969033</td>\n",
       "      <td>654.889104</td>\n",
       "      <td>0.096360</td>\n",
       "      <td>0.627417</td>\n",
       "    </tr>\n",
       "    <tr>\n",
       "      <td>std</td>\n",
       "      <td>3.524049</td>\n",
       "      <td>4.301036</td>\n",
       "      <td>24.298981</td>\n",
       "      <td>351.914129</td>\n",
       "      <td>0.014064</td>\n",
       "      <td>0.483918</td>\n",
       "    </tr>\n",
       "    <tr>\n",
       "      <td>min</td>\n",
       "      <td>6.981000</td>\n",
       "      <td>9.710000</td>\n",
       "      <td>43.790000</td>\n",
       "      <td>143.500000</td>\n",
       "      <td>0.052630</td>\n",
       "      <td>0.000000</td>\n",
       "    </tr>\n",
       "    <tr>\n",
       "      <td>25%</td>\n",
       "      <td>11.700000</td>\n",
       "      <td>16.170000</td>\n",
       "      <td>75.170000</td>\n",
       "      <td>420.300000</td>\n",
       "      <td>0.086370</td>\n",
       "      <td>0.000000</td>\n",
       "    </tr>\n",
       "    <tr>\n",
       "      <td>50%</td>\n",
       "      <td>13.370000</td>\n",
       "      <td>18.840000</td>\n",
       "      <td>86.240000</td>\n",
       "      <td>551.100000</td>\n",
       "      <td>0.095870</td>\n",
       "      <td>1.000000</td>\n",
       "    </tr>\n",
       "    <tr>\n",
       "      <td>75%</td>\n",
       "      <td>15.780000</td>\n",
       "      <td>21.800000</td>\n",
       "      <td>104.100000</td>\n",
       "      <td>782.700000</td>\n",
       "      <td>0.105300</td>\n",
       "      <td>1.000000</td>\n",
       "    </tr>\n",
       "    <tr>\n",
       "      <td>max</td>\n",
       "      <td>28.110000</td>\n",
       "      <td>39.280000</td>\n",
       "      <td>188.500000</td>\n",
       "      <td>2501.000000</td>\n",
       "      <td>0.163400</td>\n",
       "      <td>1.000000</td>\n",
       "    </tr>\n",
       "  </tbody>\n",
       "</table>\n",
       "</div>"
      ],
      "text/plain": [
       "       mean_radius  mean_texture  mean_perimeter    mean_area  \\\n",
       "count   569.000000    569.000000      569.000000   569.000000   \n",
       "mean     14.127292     19.289649       91.969033   654.889104   \n",
       "std       3.524049      4.301036       24.298981   351.914129   \n",
       "min       6.981000      9.710000       43.790000   143.500000   \n",
       "25%      11.700000     16.170000       75.170000   420.300000   \n",
       "50%      13.370000     18.840000       86.240000   551.100000   \n",
       "75%      15.780000     21.800000      104.100000   782.700000   \n",
       "max      28.110000     39.280000      188.500000  2501.000000   \n",
       "\n",
       "       mean_smoothness   diagnosis  \n",
       "count       569.000000  569.000000  \n",
       "mean          0.096360    0.627417  \n",
       "std           0.014064    0.483918  \n",
       "min           0.052630    0.000000  \n",
       "25%           0.086370    0.000000  \n",
       "50%           0.095870    1.000000  \n",
       "75%           0.105300    1.000000  \n",
       "max           0.163400    1.000000  "
      ]
     },
     "execution_count": 97,
     "metadata": {},
     "output_type": "execute_result"
    }
   ],
   "source": [
    "# this will describe the all statistical function of our data\n",
    "data.describe()"
   ]
  },
  {
   "cell_type": "code",
   "execution_count": 98,
   "metadata": {},
   "outputs": [
    {
     "data": {
      "text/plain": [
       "0      17.99\n",
       "1      20.57\n",
       "2      19.69\n",
       "3      11.42\n",
       "4      20.29\n",
       "       ...  \n",
       "564    21.56\n",
       "565    20.13\n",
       "566    16.60\n",
       "567    20.60\n",
       "568     7.76\n",
       "Name: mean_radius, Length: 569, dtype: float64"
      ]
     },
     "execution_count": 98,
     "metadata": {},
     "output_type": "execute_result"
    }
   ],
   "source": [
    "data['mean_radius']"
   ]
  },
  {
   "cell_type": "code",
   "execution_count": 99,
   "metadata": {},
   "outputs": [
    {
     "data": {
      "text/plain": [
       "1    357\n",
       "0    212\n",
       "Name: diagnosis, dtype: int64"
      ]
     },
     "execution_count": 99,
     "metadata": {},
     "output_type": "execute_result"
    }
   ],
   "source": [
    "#displays the count of diagnosis\n",
    "data.diagnosis.value_counts()\n",
    "#357 benign and 212 malignant"
   ]
  },
  {
   "cell_type": "code",
   "execution_count": 100,
   "metadata": {},
   "outputs": [
    {
     "data": {
      "image/png": "[encoded data removed]",
      "text/plain": [
       "<Figure size 432x288 with 1 Axes>"
      ]
     },
     "metadata": {},
     "output_type": "display_data"
    }
   ],
   "source": [
    "# plots the barplot of distribution of data\n",
    "sns.set(style=\"darkgrid\")\n",
    "sns.countplot(data['diagnosis'],label=\"Count\")\n",
    "plt.title('Distribution Of Data', fontsize = 15)\n",
    "plt.show()"
   ]
  },
  {
   "cell_type": "markdown",
   "metadata": {},
   "source": [
    "Here, we observes that the dataset is imbalanced. As 63% of total data belongs to 'benign' class of diagnosis and the remaining 37% of total dataset to 'malignant' class."
   ]
  },
  {
   "cell_type": "code",
   "execution_count": 101,
   "metadata": {},
   "outputs": [
    {
     "name": "stdout",
     "output_type": "stream",
     "text": [
      "The fetures of the data are: \n",
      "      mean_radius  mean_texture  mean_perimeter  mean_area  mean_smoothness\n",
      "0          17.99         10.38          122.80     1001.0          0.11840\n",
      "1          20.57         17.77          132.90     1326.0          0.08474\n",
      "2          19.69         21.25          130.00     1203.0          0.10960\n",
      "3          11.42         20.38           77.58      386.1          0.14250\n",
      "4          20.29         14.34          135.10     1297.0          0.10030\n",
      "..           ...           ...             ...        ...              ...\n",
      "564        21.56         22.39          142.00     1479.0          0.11100\n",
      "565        20.13         28.25          131.20     1261.0          0.09780\n",
      "566        16.60         28.08          108.30      858.1          0.08455\n",
      "567        20.60         29.33          140.10     1265.0          0.11780\n",
      "568         7.76         24.54           47.92      181.0          0.05263\n",
      "\n",
      "[569 rows x 5 columns] \n",
      "\n",
      " The Target of the data are: \n",
      " 0      0\n",
      "1      0\n",
      "2      0\n",
      "3      0\n",
      "4      0\n",
      "      ..\n",
      "564    0\n",
      "565    0\n",
      "566    0\n",
      "567    0\n",
      "568    1\n",
      "Name: diagnosis, Length: 569, dtype: int64\n"
     ]
    }
   ],
   "source": [
    "# Splitting the features & target\n",
    "features = data.iloc[:, :-1]\n",
    "target = data.diagnosis\n",
    "print(\"The fetures of the data are: \\n\",features,\"\\n\\n The Target of the data are: \\n\", target)"
   ]
  },
  {
   "cell_type": "code",
   "execution_count": 102,
   "metadata": {},
   "outputs": [
    {
     "data": {
      "text/plain": [
       "pandas.core.frame.DataFrame"
      ]
     },
     "execution_count": 102,
     "metadata": {},
     "output_type": "execute_result"
    }
   ],
   "source": [
    "type(features)"
   ]
  },
  {
   "cell_type": "markdown",
   "metadata": {},
   "source": [
    "## Data Pre Preprocessing\n",
    "\n",
    "This includes following steps: <br/><br/>\n",
    "1) Dealing with outliers <br/>\n",
    "2) Dealing with missing values <br/>\n",
    "3) Handling categorical data <br/>\n",
    "4) Scaling data <br/>\n",
    "5) Handling imbalance <br/>\n",
    "6) Feature selection <br/>\n",
    "7) Dimensionality reduction <br/>"
   ]
  },
  {
   "cell_type": "code",
   "execution_count": 103,
   "metadata": {},
   "outputs": [
    {
     "data": {
      "text/plain": [
       "mean_radius        0\n",
       "mean_texture       0\n",
       "mean_perimeter     0\n",
       "mean_area          0\n",
       "mean_smoothness    0\n",
       "diagnosis          0\n",
       "dtype: int64"
      ]
     },
     "execution_count": 103,
     "metadata": {},
     "output_type": "execute_result"
    }
   ],
   "source": [
    "#gives the number of null values\n",
    "data.isna().sum()\n",
    "# no null values found"
   ]
  },
  {
   "cell_type": "code",
   "execution_count": 104,
   "metadata": {},
   "outputs": [
    {
     "data": {
      "text/plain": [
       "1    357\n",
       "0    212\n",
       "Name: diagnosis, dtype: int64"
      ]
     },
     "execution_count": 104,
     "metadata": {},
     "output_type": "execute_result"
    }
   ],
   "source": [
    "# to remove duplicate rows\n",
    "data.drop_duplicates(inplace = True)\n",
    "data.diagnosis.value_counts()"
   ]
  },
  {
   "cell_type": "markdown",
   "metadata": {},
   "source": [
    "Here, we observe that data has no duplicate rows as the value counts for data is same as it was before."
   ]
  },
  {
   "cell_type": "markdown",
   "metadata": {},
   "source": [
    "<b>Handling Categorical Data</b>: As the dataset have only numeric values, don't have to handle categorical data."
   ]
  },
  {
   "cell_type": "code",
   "execution_count": 105,
   "metadata": {},
   "outputs": [
    {
     "data": {
      "text/plain": [
       "Text(0.5, 1.0, 'Visualising Outliers')"
      ]
     },
     "execution_count": 105,
     "metadata": {},
     "output_type": "execute_result"
    },
    {
     "data": {
      "image/png": "[encoded data removed]",
      "text/plain": [
       "<Figure size 720x360 with 1 Axes>"
      ]
     },
     "metadata": {},
     "output_type": "display_data"
    }
   ],
   "source": [
    "#Detecting the outliers by plotting boxplot for the features in the Dataset\n",
    "sns.set_style(\"whitegrid\") \n",
    "fig, ax = plt.subplots(1,figsize = (10, 5))\n",
    "sns.boxplot(data=pd.DataFrame(features), ax = ax)\n",
    "ax.set_title('Visualising Outliers', fontsize = 18)"
   ]
  },
  {
   "cell_type": "markdown",
   "metadata": {},
   "source": [
    "<b>OBSERVATIONS</b><br/> \n",
    "Here, we observe that outliers are present but doesn't seems to be potential outliers as these are clustered. Removing these outliers would lead to the loss of important data. So, here not imparting these outliers from the data. "
   ]
  },
  {
   "cell_type": "code",
   "execution_count": 106,
   "metadata": {},
   "outputs": [
    {
     "data": {
      "image/png": "[encoded data removed]",
      "text/plain": [
       "<Figure size 432x288 with 2 Axes>"
      ]
     },
     "metadata": {},
     "output_type": "display_data"
    }
   ],
   "source": [
    "# Finding Correlation for Feature Selection\n",
    "corr = features.corr()\n",
    "sns.heatmap(corr).set_title(\"Correlation in Features\", fontsize = 18)\n",
    "plt.show()"
   ]
  },
  {
   "cell_type": "markdown",
   "metadata": {},
   "source": [
    "Here, mean_radius, mean_perimeter and mean_area are highly correlated. We can’t reduce our feature space to just three features. Hence, we are not extracting these features for classification."
   ]
  },
  {
   "cell_type": "code",
   "execution_count": 107,
   "metadata": {},
   "outputs": [
    {
     "name": "stdout",
     "output_type": "stream",
     "text": [
      "[[ 1.09706398 -2.07333501  1.26993369  0.9843749   1.56846633]\n",
      " [ 1.82982061 -0.35363241  1.68595471  1.90870825 -0.82696245]\n",
      " [ 1.57988811  0.45618695  1.56650313  1.55888363  0.94221044]\n",
      " ...\n",
      " [ 0.70228425  2.0455738   0.67267578  0.57795264 -0.84048388]\n",
      " [ 1.83834103  2.33645719  1.98252415  1.73521799  1.52576706]\n",
      " [-1.80840125  1.22179204 -1.81438851 -1.34778924 -3.11208479]]\n"
     ]
    }
   ],
   "source": [
    "# Scaling Data: By using standardization technique\n",
    "scaler = preprocessing.StandardScaler()\n",
    "features = scaler.fit_transform(features)\n",
    "print(features)"
   ]
  },
  {
   "cell_type": "code",
   "execution_count": 108,
   "metadata": {},
   "outputs": [
    {
     "data": {
      "text/plain": [
       "numpy.ndarray"
      ]
     },
     "execution_count": 108,
     "metadata": {},
     "output_type": "execute_result"
    }
   ],
   "source": [
    "type(features)"
   ]
  },
  {
   "cell_type": "code",
   "execution_count": 109,
   "metadata": {},
   "outputs": [],
   "source": [
    "# Stratified Cross Fold Validation, here I have chose k(no. of splits) = 10\n",
    "skf = model_selection.StratifiedKFold(n_splits=10, shuffle=True, random_state=0)"
   ]
  },
  {
   "cell_type": "code",
   "execution_count": 110,
   "metadata": {},
   "outputs": [],
   "source": [
    "# Dictionary to store the scores for each model, initialized with empty list to store values for each iteration for each algorithm\n",
    "model_score_dict = {'knn': [], 'LogReg': [], 'nb': [], 'svm': [], 'ab': [], 'gb': []}"
   ]
  },
  {
   "cell_type": "code",
   "execution_count": 111,
   "metadata": {},
   "outputs": [],
   "source": [
    "# Splitting the data into train & test using Stratified K-Fold Cross Validation\n",
    "for train_index, test_index in skf.split(features, target):\n",
    "\n",
    "    # As our data is imbalance we are using SMOTE on training set to over-sample it\n",
    "    sm = SMOTE(random_state=0)\n",
    "    x_train, y_train = sm.fit_sample(features[train_index], target[train_index])\n",
    "\n",
    "    ## Implementing 6 different Machine Algorithms:\n",
    "    \n",
    "    # KNN\n",
    "    knn = neighbors.KNeighborsClassifier()\n",
    "    knn.fit(x_train, y_train)\n",
    "    res = knn.predict(features[test_index])\n",
    "    model_score_dict['knn'].append(metrics.f1_score(res, target[test_index]))\n",
    "\n",
    "    # Logistic Regression\n",
    "    LogRegClf = LogisticRegression(random_state=0)\n",
    "    LogRegClf.fit(x_train, y_train)\n",
    "    res = LogRegClf.predict(features[test_index])\n",
    "    model_score_dict['LogReg'].append(metrics.f1_score(res, target[test_index]))\n",
    "    \n",
    "    # Naive Bayes\n",
    "    NBClf = GaussianNB()\n",
    "    NBClf.fit(x_train, y_train)\n",
    "    res = NBClf.predict(features[test_index])\n",
    "    model_score_dict['nb'].append(metrics.f1_score(res, target[test_index]))\n",
    "    \n",
    "    # SVM\n",
    "    SVMClf = SVC(gamma=\"auto\", random_state=0)\n",
    "    SVMClf.fit(x_train, y_train)\n",
    "    res = SVMClf.predict(features[test_index])\n",
    "    model_score_dict['svm'].append(metrics.f1_score(res, target[test_index]))\n",
    "    \n",
    "    # Ada Boost Classifier\n",
    "    ABclf = AdaBoostClassifier(random_state=0)\n",
    "    ABclf.fit(x_train, y_train)\n",
    "    res = ABclf.predict(features[test_index])\n",
    "    model_score_dict['ab'].append(metrics.f1_score(res, target[test_index]))\n",
    "    \n",
    "    # Gradient Boosting Classifier\n",
    "    GBclf = GradientBoostingClassifier(random_state=0)\n",
    "    GBclf.fit(x_train, y_train)\n",
    "    res = GBclf.predict(features[test_index])\n",
    "    model_score_dict['gb'].append(metrics.f1_score(res, target[test_index]))\n",
    "\n",
    "# Taking mean across all the values through each iteration\n",
    "score_mean_dict = {k: sum(v) / len(v) for k, v in model_score_dict.items()}"
   ]
  },
  {
   "cell_type": "code",
   "execution_count": 112,
   "metadata": {},
   "outputs": [
    {
     "name": "stdout",
     "output_type": "stream",
     "text": [
      "Algorithm: knn F1 Score (Averaged over iterations): 0.9358682957533271\n",
      "Algorithm: LogReg F1 Score (Averaged over iterations): 0.9419975341427163\n",
      "Algorithm: nb F1 Score (Averaged over iterations): 0.9226048720155466\n",
      "Algorithm: svm F1 Score (Averaged over iterations): 0.9425010775494298\n",
      "Algorithm: ab F1 Score (Averaged over iterations): 0.9372528835862466\n",
      "Algorithm: gb F1 Score (Averaged over iterations): 0.9322529894079189\n"
     ]
    }
   ],
   "source": [
    "# Print All Algorithms with their Score\n",
    "for k, v in score_mean_dict.items():\n",
    "    print(\"Algorithm:\", k, \"F1 Score (Averaged over iterations):\", v)"
   ]
  },
  {
   "cell_type": "code",
   "execution_count": 113,
   "metadata": {},
   "outputs": [
    {
     "data": {
      "image/png": "[encoded data removed]",
      "text/plain": [
       "<Figure size 432x288 with 1 Axes>"
      ]
     },
     "metadata": {},
     "output_type": "display_data"
    }
   ],
   "source": [
    "# Converting dictionary to DF \n",
    "# Plot depicts all 6 algorithms with their mean f1-score\n",
    "score_df = pd.DataFrame.from_dict(score_mean_dict, orient='index', columns=['F1-Score'])\n",
    "sns.lineplot(data=score_df, markers=True).set_title(\"Algorithms vs F1-Score\", fontsize = 18)\n",
    "plt.show()"
   ]
  },
  {
   "cell_type": "code",
   "execution_count": 114,
   "metadata": {},
   "outputs": [
    {
     "name": "stdout",
     "output_type": "stream",
     "text": [
      "Top 3 Algorithms with highest accuracy: ['svm', 'LogReg', 'ab']\n"
     ]
    }
   ],
   "source": [
    "# Sorting algorithm in descending order of values to get the top 3\n",
    "top = sorted(score_mean_dict, key=score_mean_dict.get, reverse=True)[:3]\n",
    "print(\"Top 3 Algorithms with highest accuracy:\", top)"
   ]
  },
  {
   "cell_type": "markdown",
   "metadata": {},
   "source": [
    "## HYPER-PARAMETRER OPTIMIZATION"
   ]
  },
  {
   "cell_type": "code",
   "execution_count": 115,
   "metadata": {},
   "outputs": [],
   "source": [
    "#  Creating Smote object which is used to handle imbalance\n",
    "sm = SMOTE(random_state=0)"
   ]
  },
  {
   "cell_type": "markdown",
   "metadata": {},
   "source": [
    "1st Algorithm Hyperparameter tuning: Logistic Regression"
   ]
  },
  {
   "cell_type": "code",
   "execution_count": 116,
   "metadata": {},
   "outputs": [
    {
     "name": "stdout",
     "output_type": "stream",
     "text": [
      "Best Parameters: {'model__C': 166.81005372000593, 'model__penalty': 'l2'}\n",
      "Best Score: 0.936814296031363\n"
     ]
    }
   ],
   "source": [
    "logistic = LogisticRegression()\n",
    "\n",
    "# Creating a dictionary of hyper parameters\n",
    "hyperparameters_LR = {'model__C': np.logspace(0, 4, 10), 'model__penalty': ['l2']}\n",
    "\n",
    "# Creating a pipeline of SMOTE and Logistic Regression Algorithm\n",
    "pipeline_LR = Pipeline([('smt', sm), ('model', LogisticRegression())])\n",
    "\n",
    "# Grid search using 10-fold cross validation\n",
    "grid_LR = GridSearchCV(pipeline_LR, hyperparameters_LR, cv=10, verbose=0, scoring='f1')\n",
    "\n",
    "# Fit grid search to get beat model\n",
    "best_model_LR = grid_LR.fit(features, target)\n",
    "\n",
    "# View best hyperparameters\n",
    "print('Best Parameters:',grid_LR.best_params_) #best_model_LR.best_estimator_.get_params())\n",
    "print('Best Score:', best_model_LR.best_score_)"
   ]
  },
  {
   "cell_type": "markdown",
   "metadata": {},
   "source": [
    "2nd Algorithm HyperParameter Tuning: Ada Boosting"
   ]
  },
  {
   "cell_type": "code",
   "execution_count": 117,
   "metadata": {},
   "outputs": [
    {
     "name": "stdout",
     "output_type": "stream",
     "text": [
      "Best Parameters: {'model__learning_rate': 1, 'model__n_estimators': 100}\n",
      "Best Score: 0.9434503977016261\n"
     ]
    }
   ],
   "source": [
    "# Ada Boosting\n",
    "\n",
    "ada_boost = AdaBoostClassifier()\n",
    "\n",
    "# Creating a dictionary of hyper parameters, where keys: the parameters & values: the range of values to experiment with\n",
    "hyperparameters_AB = {'model__n_estimators': list(range(50, 101)), 'model__learning_rate': [0.1, 0.3, 0.5, 0.7, 0.9, 1]}\n",
    "\n",
    "# Creating a pipeline of SMOTE and Algorithm\n",
    "pipeline_AB = Pipeline([('smt', sm), ('model', ada_boost)])\n",
    "\n",
    "# Create grid search using 10-fold cross validation\n",
    "grid_AB = GridSearchCV(pipeline_AB, hyperparameters_AB, cv=10, verbose=0, scoring='f1', n_jobs=-1)\n",
    "\n",
    "# Fit grid search to get best model\n",
    "best_model_AB = grid_AB.fit(features, target)\n",
    "\n",
    "print('Best Parameters:', grid_AB.best_params_)\n",
    "print('Best Score:', best_model_AB.best_score_)"
   ]
  },
  {
   "cell_type": "markdown",
   "metadata": {},
   "source": [
    "3rd Algorithm HyperParameter Tuning: Gradient Boosting"
   ]
  },
  {
   "cell_type": "code",
   "execution_count": 118,
   "metadata": {},
   "outputs": [
    {
     "name": "stdout",
     "output_type": "stream",
     "text": [
      "Best Parameters: {'model__learning_rate': 0.7, 'model__n_estimators': 51}\n",
      "Best Score: 0.936993382615535\n"
     ]
    }
   ],
   "source": [
    "# Gradient Boosting\n",
    "\n",
    "grad_boost = GradientBoostingClassifier()\n",
    "\n",
    "# Creating a dictionary of hyper parameters, where keys: the parameters & values: the range of values to experiment with\n",
    "hyperparameters_GB = {'model__n_estimators': list(range(100, 200)), 'model__learning_rate': [0.01, 0.03, 0.05, 0.07, 0.09, .1], 'model__max_depth': [1, 3, 5, 7, 9], 'model__random_state': 0}\n",
    "\n",
    "# Creating a pipeline of SMOTE and Algorithm\n",
    "pipeline_GB = Pipeline([('smt', sm), ('model', grad_boost)])\n",
    "\n",
    "# Create grid search using 10-fold cross validation\n",
    "grid_GB = GridSearchCV(pipeline_GB, hyperparameters_AB, cv=10, verbose=0, scoring='f1', n_jobs=-1)\n",
    "\n",
    "# Fit grid search to get best model\n",
    "best_model_GB = grid_GB.fit(features, target)\n",
    "\n",
    "print('Best Parameters:', grid_GB.best_params_)\n",
    "print('Best Score:', best_model_GB.best_score_)"
   ]
  },
  {
   "cell_type": "code",
   "execution_count": 119,
   "metadata": {},
   "outputs": [
    {
     "data": {
      "image/png": "[encoded data removed]",
      "text/plain": [
       "<Figure size 432x288 with 1 Axes>"
      ]
     },
     "metadata": {},
     "output_type": "display_data"
    }
   ],
   "source": [
    "# Creating dictionary of algos with their best scores \n",
    "model_score_afterhp_dict = {'LogReg': [best_model_LR.best_score_] ,'ab': [best_model_AB.best_score_], 'gb': [best_model_GB.best_score_]}\n",
    "model_score_afterhp_dict\n",
    "\n",
    "#Converting it into dataframe\n",
    "afterhpmodel_df = pd.DataFrame.from_dict(model_score_afterhp_dict, orient='index', columns=['Best Score'])\n",
    "afterhpmodel_df\n",
    "\n",
    "#Plotting line graph \n",
    "sns.lineplot(data=afterhpmodel_df, markers=True).set_title(\"Best Model After Hypertuning Parameters\")\n",
    "plt.show()"
   ]
  },
  {
   "cell_type": "code",
   "execution_count": 120,
   "metadata": {},
   "outputs": [
    {
     "name": "stdout",
     "output_type": "stream",
     "text": [
      "Algorithm: LogReg Best Score: [0.936814296031363]\n",
      "Algorithm: ab Best Score: [0.9434503977016261]\n",
      "Algorithm: gb Best Score: [0.936993382615535]\n"
     ]
    }
   ],
   "source": [
    "# Print All Algorithms with their Score\n",
    "for k, v in model_score_afterhp_dict.items():\n",
    "    print(\"Algorithm:\", k, \"Best Score:\", v)"
   ]
  },
  {
   "cell_type": "markdown",
   "metadata": {},
   "source": [
    "## RESEARCH: Handling Imbalance Data"
   ]
  },
  {
   "cell_type": "code",
   "execution_count": 121,
   "metadata": {},
   "outputs": [],
   "source": [
    "# Making Object of Stratified K Fold\n",
    "skf = model_selection.StratifiedKFold(n_splits=10, shuffle=True, random_state=0)"
   ]
  },
  {
   "cell_type": "code",
   "execution_count": 122,
   "metadata": {},
   "outputs": [],
   "source": [
    "# Creating dictionaries to store Scores\n",
    "bl_smote_scores = {'LR': 0, 'AB': 0, 'GB': 0}\n",
    "bl_smote_con_mat = {'LR': [[0, 0], [0, 0]], 'AB': [[0, 0], [0, 0]], 'GB': [[0, 0], [0, 0]]}\n",
    "\n",
    "km_scores = {'LR': 0, 'AB': 0, 'GB': 0}\n",
    "km_con_mat = {'LR': [[0, 0], [0, 0]], 'AB': [[0, 0], [0, 0]], 'GB': [[0, 0], [0, 0]]}\n",
    "\n",
    "svm_sm_scores = {'LR': 0, 'AB': 0, 'GB': 0}\n",
    "svm_sm_con_mat = {'LR': [[0, 0], [0, 0]], 'AB': [[0, 0], [0, 0]], 'GB': [[0, 0], [0, 0]]}\n"
   ]
  },
  {
   "cell_type": "code",
   "execution_count": 123,
   "metadata": {},
   "outputs": [],
   "source": [
    "for train_index, test_index in skf.split(features, target):\n",
    "\n",
    "    ##1. Borderline Smote \n",
    "    bl_smote = BorderlineSMOTE(random_state=0, kind='borderline-1')\n",
    "    X_train, y_train = bl_smote.fit_sample(features[train_index], target[train_index])\n",
    "\n",
    "    \n",
    "    # Logistic Regression\n",
    "    logistic = LogisticRegression(random_state=0)\n",
    "    logistic.fit(X_train, y_train)\n",
    "    res = logistic.predict(features[test_index])\n",
    "    bl_smote_scores['LR'] += metrics.f1_score(res, target[test_index])\n",
    "    bl_smote_con_mat['LR'] += confusion_matrix(y_true=target[test_index], y_pred=res)\n",
    "\n",
    "    \n",
    "    # Ada Boost Classifier\n",
    "    adaBoost = AdaBoostClassifier(random_state=0)\n",
    "    adaBoost.fit(X_train, y_train)\n",
    "    res = adaBoost.predict(features[test_index])\n",
    "    bl_smote_scores['AB'] += metrics.f1_score(res, target[test_index])\n",
    "    bl_smote_con_mat['AB'] += confusion_matrix(y_true=target[test_index], y_pred=res)\n",
    "\n",
    "    \n",
    "    # Gradient Boost Classifier\n",
    "    gradBoost = GradientBoostingClassifier(random_state=0)\n",
    "    gradBoost.fit(X_train, y_train)\n",
    "    res = gradBoost.predict(features[test_index])\n",
    "    bl_smote_scores['GB'] += metrics.f1_score(res, target[test_index])\n",
    "    bl_smote_con_mat['GB'] += confusion_matrix(y_true=target[test_index], y_pred=res)\n",
    "\n",
    "    \n",
    "    ##2. K-Means Smote\n",
    "    km_smote = KMeansSMOTE(random_state=0)\n",
    "    X_train, y_train = km_smote.fit_sample(features[train_index], target[train_index])\n",
    "\n",
    "    # Logistic Regression\n",
    "    logistic = LogisticRegression(random_state=0)\n",
    "    logistic.fit(X_train, y_train)\n",
    "    res = logistic.predict(features[test_index])\n",
    "    km_scores['LR'] += metrics.f1_score(res, target[test_index])\n",
    "    km_con_mat['LR'] += confusion_matrix(y_true=target[test_index], y_pred=res)\n",
    "    \n",
    "    # Ada Boost Classifier\n",
    "    adaBoost = AdaBoostClassifier(random_state=0)\n",
    "    adaBoost.fit(X_train, y_train)\n",
    "    res = adaBoost.predict(features[test_index])\n",
    "    km_scores['AB'] += metrics.f1_score(res, target[test_index])\n",
    "    km_con_mat['AB'] += confusion_matrix(y_true=target[test_index], y_pred=res)\n",
    "\n",
    "    # Gradient Boost Classifier\n",
    "    gradBoost = GradientBoostingClassifier(random_state=0)\n",
    "    gradBoost.fit(X_train, y_train)\n",
    "    res = gradBoost.predict(features[test_index])\n",
    "    km_scores['GB'] += metrics.f1_score(res, target[test_index])\n",
    "    km_con_mat['GB'] += confusion_matrix(y_true=target[test_index], y_pred=res)\n",
    "\n",
    "    ##3. SVM Smote\n",
    "    svm_smote = SVMSMOTE(random_state=0)\n",
    "    X_train, y_train = svm_smote.fit_sample(features[train_index], target[train_index])\n",
    "\n",
    "    # Logistic Regression\n",
    "    logistic = LogisticRegression(random_state=0)\n",
    "    logistic.fit(X_train, y_train)\n",
    "    res = logistic.predict(features[test_index])\n",
    "    svm_sm_scores['LR'] += metrics.f1_score(res, target[test_index])\n",
    "    svm_sm_con_mat['LR'] += confusion_matrix(y_true=target[test_index], y_pred=res)\n",
    "\n",
    "    # Ada Boost Classifier\n",
    "    adaBoost = AdaBoostClassifier(random_state=0)\n",
    "    adaBoost.fit(X_train, y_train)\n",
    "    res = adaBoost.predict(features[test_index])\n",
    "    svm_sm_scores['AB'] += metrics.f1_score(res, target[test_index])\n",
    "    svm_sm_con_mat['AB'] += confusion_matrix(y_true=target[test_index], y_pred=res)\n",
    "\n",
    "    # Gradient Boost Classifier\n",
    "    gradBoost = GradientBoostingClassifier(random_state=0)\n",
    "    gradBoost.fit(X_train, y_train)\n",
    "    res = gradBoost.predict(features[test_index])\n",
    "    svm_sm_scores['GB'] += metrics.f1_score(res, target[test_index])\n",
    "    svm_sm_con_mat['GB'] += confusion_matrix(y_true=target[test_index], y_pred=res)\n",
    "\n",
    "bl_smote_scores = {k: v / 10 for k, v in bl_smote_scores.items()}\n",
    "bl_smote_con_mat = {k: v for k, v in bl_smote_con_mat.items()}\n",
    "\n",
    "km_scores = {k: v / 10 for k, v in km_scores.items()}\n",
    "km_con_mat = {k: v / 10 for k, v in km_con_mat.items()}\n",
    "\n",
    "svm_sm_scores = {k: v / 10 for k, v in svm_sm_scores.items()}\n",
    "svm_sm_con_mat = {k: v / 10 for k, v in svm_sm_con_mat.items()}\n"
   ]
  },
  {
   "cell_type": "code",
   "execution_count": 124,
   "metadata": {},
   "outputs": [
    {
     "name": "stdout",
     "output_type": "stream",
     "text": [
      "Borderline Smote Score: {'LR': 0.9203746929876175, 'AB': 0.9253930758629378, 'GB': 0.9195425526698298}\n",
      "Borderline Smote Con Mat Score\n",
      ": {'LR': array([[200,  12],\n",
      "       [ 42, 315]], dtype=int64), 'AB': array([[193,  19],\n",
      "       [ 33, 324]], dtype=int64), 'GB': array([[191,  21],\n",
      "       [ 35, 322]], dtype=int64)}\n"
     ]
    },
    {
     "data": {
      "image/png": "[encoded data removed]",
      "text/plain": [
       "<Figure size 432x288 with 1 Axes>"
      ]
     },
     "metadata": {},
     "output_type": "display_data"
    }
   ],
   "source": [
    "#Displays the model with their respective score after borderline smote\n",
    "\n",
    "print(\"Borderline Smote Score:\", bl_smote_scores)\n",
    "print(\"Borderline Smote Con Mat Score\\n:\", bl_smote_con_mat)\n",
    "\n",
    "bl_smote_df = pd.DataFrame.from_dict(bl_smote_scores, orient='index', columns=['F1-Score'])\n",
    "sns.lineplot(data=bl_smote_df, markers=True).set_title(\"Using Border Line Smote\")\n",
    "plt.show()"
   ]
  },
  {
   "cell_type": "code",
   "execution_count": 125,
   "metadata": {},
   "outputs": [
    {
     "name": "stdout",
     "output_type": "stream",
     "text": [
      "K Means Smote Score: {'LR': 0.9457136242110197, 'AB': 0.9365813418689568, 'GB': 0.9347776898208948}\n",
      "K Means Smote Con Mat Score:\n",
      " {'LR': array([[19. ,  2.2],\n",
      "       [ 1.7, 34. ]]), 'AB': array([[18.4,  2.8],\n",
      "       [ 1.8, 33.9]]), 'GB': array([[18.5,  2.7],\n",
      "       [ 2. , 33.7]])}\n"
     ]
    },
    {
     "data": {
      "image/png": "[encoded data removed]",
      "text/plain": [
       "<Figure size 432x288 with 1 Axes>"
      ]
     },
     "metadata": {},
     "output_type": "display_data"
    }
   ],
   "source": [
    "#Displays the model with their respective score after K- Means smote\n",
    "\n",
    "print(\"K Means Smote Score:\", km_scores)\n",
    "print(\"K Means Smote Con Mat Score:\\n\", km_con_mat)\n",
    "km_df = pd.DataFrame.from_dict(km_scores, orient='index', columns=['F1-Score'])\n",
    "sns.lineplot(data=km_df, markers=True).set_title(\"Using K Means Smote\")\n",
    "plt.show()"
   ]
  },
  {
   "cell_type": "code",
   "execution_count": 126,
   "metadata": {},
   "outputs": [
    {
     "name": "stdout",
     "output_type": "stream",
     "text": [
      "SVM Smote Score: {'LR': 0.9266442503061499, 'AB': 0.9271979901387724, 'GB': 0.9251517571572266}\n",
      "SVM Smote Con Mat Score:\n",
      " {'LR': array([[20. ,  1.2],\n",
      "       [ 3.8, 31.9]]), 'AB': array([[19.5,  1.7],\n",
      "       [ 3.3, 32.4]]), 'GB': array([[19.3,  1.9],\n",
      "       [ 3.3, 32.4]])}\n"
     ]
    },
    {
     "data": {
      "image/png": "[encoded data removed]",
      "text/plain": [
       "<Figure size 432x288 with 1 Axes>"
      ]
     },
     "metadata": {},
     "output_type": "display_data"
    }
   ],
   "source": [
    "print(\"SVM Smote Score:\", svm_sm_scores)\n",
    "print(\"SVM Smote Con Mat Score:\\n\", svm_sm_con_mat)\n",
    "svm_sm_df = pd.DataFrame.from_dict(svm_sm_scores, orient='index', columns=['F1-Score'])\n",
    "sns.lineplot(data=svm_sm_df, markers=True).set_title(\"Using SVM Smote\")\n",
    "plt.show()"
   ]
  },
  {
   "cell_type": "markdown",
   "metadata": {},
   "source": [
    "<b>Hyper Parameter Optimization with SMOTE Variants</b> <br><br>\n",
    "1. Borderline Smote"
   ]
  },
  {
   "cell_type": "markdown",
   "metadata": {},
   "source": [
    "Appling Borderline Smote on Logistic Regression:-"
   ]
  },
  {
   "cell_type": "code",
   "execution_count": 127,
   "metadata": {},
   "outputs": [
    {
     "name": "stdout",
     "output_type": "stream",
     "text": [
      "Best Parameters: {'model__C': 3593.813663804626, 'model__penalty': 'l2'}\n",
      "Best Score: 0.9304289111310375\n"
     ]
    }
   ],
   "source": [
    "logistic = LogisticRegression()\n",
    "bl_smote = BorderlineSMOTE(random_state=0, kind='borderline-1')\n",
    "\n",
    "# Creating a dictionary of hyper parameters,\n",
    "hyperparameters_LR = {'model__C': np.logspace(0, 4, 10), 'model__penalty': ['l2']}\n",
    "\n",
    "# Creating a pipeline of SMOTE and Algorithm,\n",
    "pipeline_LR = Pipeline([('smt', bl_smote), ('model', LogisticRegression())])\n",
    "\n",
    "# Create grid search using 10-fold cross validation,\n",
    "grid_LR = GridSearchCV(pipeline_LR, hyperparameters_LR, cv=10, verbose=0, scoring='f1')\n",
    "\n",
    "# Fit grid search to get beat model\n",
    "best_model_LR1 = grid_LR.fit(features, target)\n",
    "\n",
    "# View best hyperparameters\n",
    "print('Best Parameters:', grid_LR.best_params_)\n",
    "print('Best Score:', best_model_LR1.best_score_)"
   ]
  },
  {
   "cell_type": "markdown",
   "metadata": {},
   "source": [
    "Appling Borderline Smote on Ada Boosting:-"
   ]
  },
  {
   "cell_type": "code",
   "execution_count": 128,
   "metadata": {},
   "outputs": [
    {
     "name": "stdout",
     "output_type": "stream",
     "text": [
      "Best Parameters: {'model__learning_rate': 1, 'model__n_estimators': 78}\n",
      "Best Score: 0.9266648242526566\n"
     ]
    }
   ],
   "source": [
    "ada_boost = AdaBoostClassifier()\n",
    "bl_smote = BorderlineSMOTE(random_state=0, kind='borderline-1')\n",
    "\n",
    "# Creating a dictionary of hyper parameters,\n",
    "hyperparameters_AB = {'model__n_estimators': list(range(50, 101)), 'model__learning_rate': [0.1, 0.3, 0.5, 0.7, 0.9, 1]}\n",
    "\n",
    "# Creating a pipeline of SMOTE and Algorithm\n",
    "pipeline_AB = Pipeline([('smt', bl_smote), ('model', ada_boost)])\n",
    "\n",
    "# Create grid search using 10-fold cross validation\n",
    "grid_AB = GridSearchCV(pipeline_AB, hyperparameters_AB, cv=10, verbose=0, scoring='f1', n_jobs=-1)\n",
    "\n",
    "# Fit grid search to get best model\n",
    "best_model_AB1 = grid_AB.fit(features, target)\n",
    "print('Best Parameters:', grid_AB.best_params_)\n",
    "print('Best Score:', best_model_AB1.best_score_)"
   ]
  },
  {
   "cell_type": "markdown",
   "metadata": {},
   "source": [
    "Appling Borderline Smote on Gradient Boosting:-"
   ]
  },
  {
   "cell_type": "code",
   "execution_count": 129,
   "metadata": {},
   "outputs": [
    {
     "name": "stdout",
     "output_type": "stream",
     "text": [
      "Best Parameters: {'model__learning_rate': 1, 'model__n_estimators': 85}\n",
      "Best Score: 0.9330311720529112\n"
     ]
    }
   ],
   "source": [
    "grad_boost = GradientBoostingClassifier()\n",
    "\n",
    "bl_smote = BorderlineSMOTE(random_state=0, kind='borderline-1')\n",
    "\n",
    "# Creating a dictionary of hyper parameters, \n",
    "hyperparameters_GB = {'model__n_estimators': list(range(100, 200)), 'model__learning_rate': [0.01, 0.03, 0.05, 0.07, 0.09, .1], 'model__max_depth': [1, 3, 5, 7, 9], 'model__random_state': 0}\n",
    "\n",
    "# Creating a pipeline of SMOTE and Algorithm\n",
    "pipeline_GB = Pipeline([('smt', bl_smote), ('model', grad_boost)])\n",
    "\n",
    "# Create grid search using 10-fold cross validation\n",
    "grid_GB = GridSearchCV(pipeline_GB, hyperparameters_AB, cv=10, verbose=0, scoring='f1', n_jobs=-1)\n",
    "\n",
    "# Fit grid search to get best model\n",
    "best_model_GB1 = grid_GB.fit(features, target)\n",
    "print('Best Parameters:',grid_GB.best_params_)\n",
    "print('Best Score:', best_model_GB1.best_score_)"
   ]
  },
  {
   "cell_type": "code",
   "execution_count": 130,
   "metadata": {},
   "outputs": [
    {
     "data": {
      "image/png": "[encoded data removed]",
      "text/plain": [
       "<Figure size 432x288 with 1 Axes>"
      ]
     },
     "metadata": {},
     "output_type": "display_data"
    }
   ],
   "source": [
    "# Creating dictionary of algos with their best scores \n",
    "model_score_blsm_dict = {'LogReg': [best_model_LR1.best_score_] ,'ab': [best_model_AB1.best_score_], 'gb': [best_model_GB1.best_score_]}\n",
    "model_score_blsm_dict\n",
    "\n",
    "#Converting it into dataframe\n",
    "blsm_model_df = pd.DataFrame.from_dict(model_score_blsm_dict, orient='index', columns=['Best Score'])\n",
    "blsm_model_df\n",
    "\n",
    "#Plotting line graph \n",
    "sns.lineplot(data=blsm_model_df, markers=True).set_title(\"BorderLine Smote after Hyper Parameter Optimization\")\n",
    "plt.show()"
   ]
  },
  {
   "cell_type": "markdown",
   "metadata": {},
   "source": [
    "2. K-Means Smote"
   ]
  },
  {
   "cell_type": "markdown",
   "metadata": {},
   "source": [
    "Appling K Means Smote on Logistic Regression :-"
   ]
  },
  {
   "cell_type": "code",
   "execution_count": 131,
   "metadata": {},
   "outputs": [
    {
     "name": "stdout",
     "output_type": "stream",
     "text": [
      "Best Parameters: {'model__C': 21.544346900318832, 'model__penalty': 'l2'}\n",
      "Best Score: 0.9420729559682017\n"
     ]
    }
   ],
   "source": [
    "logistic = LogisticRegression()\n",
    "km_smote = KMeansSMOTE(random_state=0)\n",
    "\n",
    "# Creating a dictionary of hyper parameters,\n",
    "hyperparameters_LR = {'model__C': np.logspace(0, 4, 10), 'model__penalty': ['l2']}\n",
    "\n",
    "# Creating a pipeline of SMOTE and Algorithm\n",
    "pipeline_LR = Pipeline([('smt', km_smote), ('model', LogisticRegression())])\n",
    "\n",
    "# Create grid search using 10-fold cross validation\n",
    "grid_LR = GridSearchCV(pipeline_LR, hyperparameters_LR, cv=10, verbose=0, scoring='f1')\n",
    "\n",
    "# Fit grid search to get best model\n",
    "best_model_LR2 = grid_LR.fit(features, target)\n",
    "\n",
    "# View best hyperparameters\n",
    "print('Best Parameters:',grid_LR.best_params_)\n",
    "print('Best Score:', best_model_LR2.best_score_)\n"
   ]
  },
  {
   "cell_type": "markdown",
   "metadata": {},
   "source": [
    "Appling K Means Smote on Ada Boosting:-"
   ]
  },
  {
   "cell_type": "code",
   "execution_count": 132,
   "metadata": {},
   "outputs": [
    {
     "name": "stdout",
     "output_type": "stream",
     "text": [
      "Best Parameters: {'model__learning_rate': 0.7, 'model__n_estimators': 67}\n",
      "Best Score: 0.9525283023879447\n"
     ]
    }
   ],
   "source": [
    "ada_boost = AdaBoostClassifier()\n",
    "km_smote = KMeansSMOTE(random_state=0)\n",
    "\n",
    "# Creating a dictionary of hyper parameters, \n",
    "hyperparameters_AB = {'model__n_estimators': list(range(50, 101)), 'model__learning_rate': [0.1, 0.3, 0.5, 0.7, 0.9, 1]}\n",
    "\n",
    "# Creating a pipeline of SMOTE and Algorithm\n",
    "pipeline_AB = Pipeline([('smt', km_smote), ('model', ada_boost)])\n",
    "\n",
    "# Create grid search using 10-fold cross validation\n",
    "grid_AB = GridSearchCV(pipeline_AB, hyperparameters_AB, cv=10, verbose=0, scoring='f1', n_jobs=-1)\n",
    "\n",
    "# Fit grid search to get best model\n",
    "best_model_AB2 = grid_AB.fit(features, target)\n",
    "print('Best Parameters:',grid_AB.best_params_)\n",
    "print('Best Score:', best_model_AB2.best_score_)"
   ]
  },
  {
   "cell_type": "markdown",
   "metadata": {},
   "source": [
    "Appling K Means Smote on Gradient Boosting:-"
   ]
  },
  {
   "cell_type": "code",
   "execution_count": 133,
   "metadata": {},
   "outputs": [
    {
     "name": "stdout",
     "output_type": "stream",
     "text": [
      "Best Parameters: {'model__learning_rate': 0.7, 'model__n_estimators': 89}\n",
      "Best Score: 0.9445954538583301\n"
     ]
    }
   ],
   "source": [
    "grad_boost = GradientBoostingClassifier()\n",
    "km_smote = KMeansSMOTE(random_state=0)\n",
    "\n",
    "# Creating a dictionary of hyper parameters,\n",
    "hyperparameters_GB = {'model__n_estimators': list(range(100, 200)), 'model__learning_rate': [0.01, 0.03, 0.05, 0.07, 0.09, .1], 'model__max_depth': [1, 3, 5, 7, 9]}\n",
    "\n",
    "# Creating a pipeline of SMOTE and Algorithm\n",
    "pipeline_GB = Pipeline([('smt', km_smote), ('model', grad_boost)])\n",
    "\n",
    "# Create grid search using 10-fold cross validation\n",
    "grid_GB = GridSearchCV(pipeline_GB, hyperparameters_AB, cv=10, verbose=0, scoring='f1', n_jobs=-1)\n",
    "\n",
    "# Fit grid search to get best model\n",
    "best_model_GB2 = grid_GB.fit(features, target)\n",
    "print('Best Parameters:', grid_GB.best_params_)\n",
    "print('Best Score:', best_model_GB2.best_score_)"
   ]
  },
  {
   "cell_type": "code",
   "execution_count": 134,
   "metadata": {},
   "outputs": [
    {
     "data": {
      "image/png": "[encoded data removed]",
      "text/plain": [
       "<Figure size 432x288 with 1 Axes>"
      ]
     },
     "metadata": {},
     "output_type": "display_data"
    }
   ],
   "source": [
    "# Creating dictionary of algos with their best scores \n",
    "model_score_Kmeans_dict = {'LogReg': [best_model_LR2.best_score_] ,'ab': [best_model_AB2.best_score_], 'gb': [best_model_GB2.best_score_]}\n",
    "model_score_Kmeans_dict\n",
    "\n",
    "#Converting it into dataframe\n",
    "Kmeans_model_df = pd.DataFrame.from_dict(model_score_Kmeans_dict, orient='index', columns=['Best Score'])\n",
    "Kmeans_model_df\n",
    "\n",
    "#Plotting line graph \n",
    "sns.lineplot(data=Kmeans_model_df, markers=True).set_title(\"K-Means Smote after Hyper Parameter Optimization\")\n",
    "plt.show()"
   ]
  },
  {
   "cell_type": "markdown",
   "metadata": {},
   "source": [
    "3. SVM SMOTE"
   ]
  },
  {
   "cell_type": "markdown",
   "metadata": {},
   "source": [
    "Appling SVM Smote on Logistic Regression:-"
   ]
  },
  {
   "cell_type": "code",
   "execution_count": 135,
   "metadata": {},
   "outputs": [
    {
     "name": "stdout",
     "output_type": "stream",
     "text": [
      "Best Parameters: {'model__C': 464.15888336127773, 'model__penalty': 'l2'}\n",
      "Best Score: 0.9300975087492663\n"
     ]
    }
   ],
   "source": [
    "logistic = LogisticRegression()\n",
    "svm_smote = SVMSMOTE(random_state=0)\n",
    "\n",
    "# Creating a dictionary of hyper parameters,\n",
    "hyperparameters_LR = {'model__C': np.logspace(0, 4, 10), 'model__penalty': ['l2']}\n",
    "\n",
    "# Creating a pipeline of SMOTE and Algorithm\n",
    "pipeline_LR = Pipeline([('smt', svm_smote), ('model', LogisticRegression())])\n",
    "\n",
    "# Create grid search using 10-fold cross validation\n",
    "grid_LR = GridSearchCV(pipeline_LR, hyperparameters_LR, cv=10, verbose=0, scoring='f1')\n",
    "\n",
    "# Fit grid search to get beat model\n",
    "best_model_LR3 = grid_LR.fit(features, target)\n",
    "\n",
    "# View best hyperparameters\n",
    "print('Best Parameters:',grid_LR.best_params_)\n",
    "print('Best Score:', best_model_LR3.best_score_)"
   ]
  },
  {
   "cell_type": "markdown",
   "metadata": {},
   "source": [
    "Appling SVM Smote on Ada Boosting :-"
   ]
  },
  {
   "cell_type": "code",
   "execution_count": 136,
   "metadata": {},
   "outputs": [
    {
     "name": "stdout",
     "output_type": "stream",
     "text": [
      "Best Parameters: {'model__learning_rate': 0.1, 'model__n_estimators': 92}\n",
      "Best Score: 0.936262439134136\n"
     ]
    }
   ],
   "source": [
    "\n",
    "ada_boost = AdaBoostClassifier()\n",
    "svm_smote = SVMSMOTE(random_state=0)\n",
    "\n",
    "# Creating a dictionary of hyper parameters, where keys: the parameters & values: the range of values to experiment with\n",
    "hyperparameters_AB = {'model__n_estimators': list(range(50, 101)), 'model__learning_rate': [0.1, 0.3, 0.5, 0.7, 0.9, 1]}\n",
    "\n",
    "# Creating a pipeline of SMOTE and Algorithm\n",
    "pipeline_AB = Pipeline([('smt', svm_smote), ('model', ada_boost)])\n",
    "\n",
    "# Create grid search using 10-fold cross validation\n",
    "grid_AB = GridSearchCV(pipeline_AB, hyperparameters_AB, cv=10, verbose=0, scoring='f1', n_jobs=-1)\n",
    "\n",
    "# Fit grid search to get best model\n",
    "best_model_AB3 = grid_AB.fit(features, target)\n",
    "print('Best Parameters:',grid_AB.best_params_)\n",
    "print('Best Score:', best_model_AB3.best_score_)"
   ]
  },
  {
   "cell_type": "markdown",
   "metadata": {},
   "source": [
    "Appling SVM Smote on Gradient Boosting :-"
   ]
  },
  {
   "cell_type": "code",
   "execution_count": 137,
   "metadata": {},
   "outputs": [
    {
     "name": "stdout",
     "output_type": "stream",
     "text": [
      "Best Parameters: {'model__learning_rate': 1, 'model__n_estimators': 77}\n",
      "Best Score: 0.9324508550120939\n"
     ]
    }
   ],
   "source": [
    "grad_boost = GradientBoostingClassifier()\n",
    "svm_smote = SVMSMOTE(random_state=0)\n",
    "\n",
    "# Creating a dictionary of hyper parameters, where keys: the parameters & values: the range of values to experiment with\n",
    "hyperparameters_GB = {'model__n_estimators': list(range(100, 200)), 'model__learning_rate': [0.01, 0.03, 0.05, 0.07, 0.09, .1], 'model__max_depth': [1, 3, 5, 7, 9], 'model__random_state': 0}\n",
    "\n",
    "# Creating a pipeline of SMOTE and Algorithm\n",
    "pipeline_GB = Pipeline([('smt', svm_smote), ('model', grad_boost)])\n",
    "\n",
    "# Create grid search using 10-fold cross validation\n",
    "grid_GB = GridSearchCV(pipeline_GB, hyperparameters_AB, cv=10, verbose=0, scoring='f1', n_jobs=-1)\n",
    "\n",
    "# Fit grid search to get best model\n",
    "best_model_GB3 = grid_GB.fit(features, target)\n",
    "print('Best Parameters:',grid_GB.best_params_)\n",
    "print('Best Score:', best_model_GB3.best_score_)\n"
   ]
  },
  {
   "cell_type": "code",
   "execution_count": 138,
   "metadata": {},
   "outputs": [
    {
     "data": {
      "image/png": "[encoded data removed]",
      "text/plain": [
       "<Figure size 432x288 with 1 Axes>"
      ]
     },
     "metadata": {},
     "output_type": "display_data"
    }
   ],
   "source": [
    "# Creating dictionary of algos with their best scores \n",
    "model_score_svm_dict = {'LogReg': [best_model_LR3.best_score_] ,'ab': [best_model_AB3.best_score_], 'gb': [best_model_GB3.best_score_]}\n",
    "model_score_svm_dict\n",
    "\n",
    "#Converting it into dataframe\n",
    "svm_model_df = pd.DataFrame.from_dict(model_score_Kmeans_dict, orient='index', columns=['Best Score'])\n",
    "svm_model_df\n",
    "\n",
    "#Plotting line graph \n",
    "sns.lineplot(data=svm_model_df, markers=True).set_title(\"SVM Smote after Hyper Parameter Optimization\")\n",
    "plt.show()"
   ]
  },
  {
   "cell_type": "code",
   "execution_count": null,
   "metadata": {},
   "outputs": [],
   "source": []
  }
 ],
 "metadata": {
  "kernelspec": {
   "display_name": "Python 3",
   "language": "python",
   "name": "python3"
  },
  "language_info": {
   "codemirror_mode": {
    "name": "ipython",
    "version": 3
   },
   "file_extension": ".py",
   "mimetype": "text/x-python",
   "name": "python",
   "nbconvert_exporter": "python",
   "pygments_lexer": "ipython3",
   "version": "3.7.4"
  }
 },
 "nbformat": 4,
 "nbformat_minor": 2
}
